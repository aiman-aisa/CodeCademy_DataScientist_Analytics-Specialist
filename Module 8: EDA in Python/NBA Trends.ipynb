{
 "cells": [
  {
   "cell_type": "markdown",
   "id": "45f87dab",
   "metadata": {},
   "source": [
    "# NBA Trends\n",
    "In this project, you’ll analyze data from the NBA (National Basketball Association) and explore possible associations.\n",
    "\n",
    "This data was originally sourced from 538’s Analysis of the Complete History Of The NBA and contains the original, unmodified data from Basketball Reference as well as several additional variables 538 added to perform their own analysis.\n",
    "\n",
    "You can read more about the data and how it’s being used by 538 here. For this project we’ve limited the data to just 5 teams and 10 columns (plus one constructed column, `point_diff`, the difference between `pts` and `opp_pts`).\n",
    "\n",
    "You will create several charts and tables in this project, so you’ll need to use `plt.clf()` between plots in your code so that the plots don’t layer on top of one another."
   ]
  },
  {
   "cell_type": "code",
   "execution_count": 1,
   "id": "b0e238b1",
   "metadata": {},
   "outputs": [
    {
     "name": "stdout",
     "output_type": "stream",
     "text": [
      "            game_id  year_id  fran_id      opp_fran game_location  \\\n",
      "21717  200910270CLE     2010  Celtics     Cavaliers             A   \n",
      "21718  200910280BOS     2010  Celtics       Hornets             H   \n",
      "21719  200910280MIA     2010   Knicks          Heat             A   \n",
      "21720  200910280MIN     2010     Nets  Timberwolves             A   \n",
      "21721  200910280OKC     2010  Thunder         Kings             H   \n",
      "\n",
      "       is_playoffs  pts  opp_pts game_result  forecast  point_diff  \n",
      "21717            0   95       89           W  0.277472           6  \n",
      "21718            0   92       59           W  0.814619          33  \n",
      "21719            0   93      115           L  0.258755         -22  \n",
      "21720            0   93       95           L  0.475155          -2  \n",
      "21721            0  102       89           W  0.716764          13  \n",
      "            game_id  year_id  fran_id   opp_fran game_location  is_playoffs  \\\n",
      "23468  201310300CLE     2014     Nets  Cavaliers             A            0   \n",
      "23469  201310300NYK     2014   Knicks      Bucks             H            0   \n",
      "23470  201310300SAS     2014    Spurs  Grizzlies             H            0   \n",
      "23471  201310300TOR     2014  Celtics    Raptors             A            0   \n",
      "23472  201310300UTA     2014  Thunder       Jazz             A            0   \n",
      "\n",
      "       pts  opp_pts game_result  forecast  point_diff  \n",
      "23468   94       98           L  0.611981          -4  \n",
      "23469   90       83           W  0.793150           7  \n",
      "23470  101       94           W  0.692980           7  \n",
      "23471   87       93           L  0.361233          -6  \n",
      "23472  101       98           W  0.526056           3  \n"
     ]
    }
   ],
   "source": [
    "# Load libraries\n",
    "import numpy as np\n",
    "import pandas as pd\n",
    "from scipy.stats import pearsonr, chi2_contingency\n",
    "import matplotlib.pyplot as plt\n",
    "import seaborn as sns\n",
    "\n",
    "# Import data\n",
    "np.set_printoptions(suppress=True, precision = 2)\n",
    "nba = pd.read_csv('nba_games.csv')\n",
    "\n",
    "# Subset Data to 2010 Season, 2014 Season\n",
    "nba_2010 = nba[nba.year_id == 2010]\n",
    "nba_2014 = nba[nba.year_id == 2014]\n",
    "\n",
    "print(nba_2010.head())\n",
    "print(nba_2014.head())"
   ]
  },
  {
   "cell_type": "markdown",
   "id": "fc6467d8",
   "metadata": {},
   "source": [
    "## Analyzing relationships between Quant and Categorical\n",
    "\n",
    "1. Above, the data has been subsetted for you into two smaller datasets: games from 2010 (named `nba_2010`) and games from 2014 (named `nba_2014`). To start, let’s focus on the 2010 data.\n",
    "\n",
    "Suppose you want to compare the knicks to the nets with respect to points earned per game. Using the `pts` column from the `nba_2010` DataFrame, create two series named `knicks_pts` (`fran_id = \"Knicks\"`) and `nets_pts`(`fran_id = \"Nets\"`) that represent the points each team has scored in their games."
   ]
  },
  {
   "cell_type": "code",
   "execution_count": 3,
   "id": "2c47a200",
   "metadata": {},
   "outputs": [],
   "source": [
    "knicks_pts = nba_2010.pts[nba_2010.fran_id == 'Knicks']\n",
    "nets_pts = nba_2010.pts[nba_2010.fran_id == 'Nets']"
   ]
  },
  {
   "cell_type": "markdown",
   "id": "2e3574ec",
   "metadata": {},
   "source": [
    "2. Calculate the difference between the two teams’ average points scored and save the result as `diff_means_2010`. Based on this value, do you think `fran_id` and `pts` are associated? Why or why not?"
   ]
  },
  {
   "cell_type": "code",
   "execution_count": 5,
   "id": "7d1755a1",
   "metadata": {},
   "outputs": [
    {
     "data": {
      "text/plain": [
       "9.731707317073173"
      ]
     },
     "execution_count": 5,
     "metadata": {},
     "output_type": "execute_result"
    }
   ],
   "source": [
    "knicks_pts_mean = np.mean(knicks_pts)\n",
    "nets_pts_mean = np.mean(nets_pts)\n",
    "diff_means_2010 = knicks_pts_mean - nets_pts_mean\n",
    "diff_means_2010"
   ]
  },
  {
   "cell_type": "markdown",
   "id": "dae152f8",
   "metadata": {},
   "source": [
    "3. Rather than comparing means, it’s useful look at the full distribution of values to understand whether a difference in means is meaningful. Create a set of overlapping histograms that can be used to compare the points scored for the Knicks compared to the Nets. Use the series you created in the previous step (1) and the code below to create the plot. Do the distributions appear to be the same?"
   ]
  },
  {
   "cell_type": "code",
   "execution_count": 7,
   "id": "b3bf576f",
   "metadata": {},
   "outputs": [
    {
     "data": {
      "image/png": "[encoded data removed]",
      "text/plain": [
       "<Figure size 432x288 with 1 Axes>"
      ]
     },
     "metadata": {
      "needs_background": "light"
     },
     "output_type": "display_data"
    }
   ],
   "source": [
    "plt.hist(knicks_pts, alpha=0.5, density=True, label = 'Knicks')\n",
    "plt.hist(nets_pts, alpha=0.5, density=True, label = 'Nets')\n",
    "plt.legend()\n",
    "plt.show()"
   ]
  },
  {
   "cell_type": "markdown",
   "id": "6a71401c",
   "metadata": {},
   "source": [
    "4. Now, let’s compare the 2010 games to 2014. Replicate the steps from the previous three exercises using `nba_2014`. First, calculate the mean difference between the two teams points scored. Save and print the value as `diff_means_2014`. Did the difference in points get larger or smaller in 2014? Then, plot the overlapping histograms. Does the mean difference you calculated make sense?"
   ]
  },
  {
   "cell_type": "code",
   "execution_count": 8,
   "id": "c9a0bc9d",
   "metadata": {},
   "outputs": [
    {
     "data": {
      "text/plain": [
       "0.44706798131809933"
      ]
     },
     "execution_count": 8,
     "metadata": {},
     "output_type": "execute_result"
    }
   ],
   "source": [
    "knicks_pts_14 = nba_2014.pts[nba_2014.fran_id == 'Knicks']\n",
    "nets_pts_14 = nba_2014.pts[nba_2014.fran_id == 'Nets']\n",
    "knicks_pts_14_mean = np.mean(knicks_pts_14)\n",
    "nets_pts_14_mean = np.mean(nets_pts_14)\n",
    "diff_means_2014 = knicks_pts_14_mean - nets_pts_14_mean\n",
    "diff_means_2014"
   ]
  },
  {
   "cell_type": "code",
   "execution_count": 10,
   "id": "25c5929a",
   "metadata": {},
   "outputs": [
    {
     "data": {
      "image/png": "[encoded data removed]",
      "text/plain": [
       "<Figure size 432x288 with 1 Axes>"
      ]
     },
     "metadata": {
      "needs_background": "light"
     },
     "output_type": "display_data"
    }
   ],
   "source": [
    "plt.clf()\n",
    "plt.hist(knicks_pts_14, alpha=0.5, density=True, label = 'Knicks')\n",
    "plt.hist(nets_pts_14, alpha=0.5, density=True, label = 'Nets')\n",
    "plt.legend()\n",
    "plt.show()"
   ]
  },
  {
   "cell_type": "markdown",
   "id": "68268aff",
   "metadata": {},
   "source": [
    "5. For the remainder of this project, we’ll focus on data from 2010. Let’s now include all teams in the dataset and investigate the relationship between franchise and points scored per game.\n",
    "\n",
    "Using `nba_2010`, generate side-by-side boxplots with points scored (`pts`) on the y-axis and team (`fran_id`) on the x-axis. Is there any overlap between the boxes? Does this chart suggest that `fran_id` and `pts` are associated? Which pairs of teams, if any, earn different average scores per game?"
   ]
  },
  {
   "cell_type": "code",
   "execution_count": 13,
   "id": "a1747f2e",
   "metadata": {},
   "outputs": [
    {
     "data": {
      "image/png": "[encoded data removed]",
      "text/plain": [
       "<Figure size 432x288 with 1 Axes>"
      ]
     },
     "metadata": {
      "needs_background": "light"
     },
     "output_type": "display_data"
    }
   ],
   "source": [
    "plt.clf()\n",
    "sns.boxplot(data=nba_2010, x='fran_id', y='pts')\n",
    "plt.show()"
   ]
  },
  {
   "cell_type": "markdown",
   "id": "32329e6d",
   "metadata": {},
   "source": [
    "**Nets and Celtics earned different average scores per game**"
   ]
  },
  {
   "cell_type": "markdown",
   "id": "4e22573a",
   "metadata": {},
   "source": [
    "## Analyzing relationships between Categorical variables\n",
    "\n",
    "\n",
    "6. The variable `game_result` indicates whether a team won a particular game (`'W'` stands for “win” and `'L'` stands for “loss”). The variable `game_location` indicates whether a team was playing at home or away (`'H'` stands for “home” and `'A'` stands for “away”). Do teams tend to win more games at home compared to away?\n",
    "\n",
    "Data scientists will often calculate a contingency table of frequencies to help them determine if categorical variables are associated. Calculate a table of frequencies that shows the counts of `game_result` and `game_location`.\n",
    "\n",
    "Save your result as `location_result_freq` and print your result. Based on this table, do you think the variables are associated?"
   ]
  },
  {
   "cell_type": "code",
   "execution_count": 14,
   "id": "67fc1abb",
   "metadata": {},
   "outputs": [
    {
     "data": {
      "text/html": [
       "<div>\n",
       "<style scoped>\n",
       "    .dataframe tbody tr th:only-of-type {\n",
       "        vertical-align: middle;\n",
       "    }\n",
       "\n",
       "    .dataframe tbody tr th {\n",
       "        vertical-align: top;\n",
       "    }\n",
       "\n",
       "    .dataframe thead th {\n",
       "        text-align: right;\n",
       "    }\n",
       "</style>\n",
       "<table border=\"1\" class=\"dataframe\">\n",
       "  <thead>\n",
       "    <tr style=\"text-align: right;\">\n",
       "      <th>game_location</th>\n",
       "      <th>A</th>\n",
       "      <th>H</th>\n",
       "    </tr>\n",
       "    <tr>\n",
       "      <th>game_result</th>\n",
       "      <th></th>\n",
       "      <th></th>\n",
       "    </tr>\n",
       "  </thead>\n",
       "  <tbody>\n",
       "    <tr>\n",
       "      <th>L</th>\n",
       "      <td>133</td>\n",
       "      <td>105</td>\n",
       "    </tr>\n",
       "    <tr>\n",
       "      <th>W</th>\n",
       "      <td>92</td>\n",
       "      <td>120</td>\n",
       "    </tr>\n",
       "  </tbody>\n",
       "</table>\n",
       "</div>"
      ],
      "text/plain": [
       "game_location    A    H\n",
       "game_result            \n",
       "L              133  105\n",
       "W               92  120"
      ]
     },
     "execution_count": 14,
     "metadata": {},
     "output_type": "execute_result"
    }
   ],
   "source": [
    "location_result_freq = pd.crosstab(nba_2010.game_result, nba_2010.game_location)\n",
    "location_result_freq"
   ]
  },
  {
   "cell_type": "markdown",
   "id": "9ebb4669",
   "metadata": {},
   "source": [
    "**Based on this result, the results is quite associated with the location. We can see that there's significant loses in the aways' games and quite higher wins in the homes' games.**"
   ]
  },
  {
   "cell_type": "markdown",
   "id": "1ee9878a",
   "metadata": {},
   "source": [
    "7. Convert this table of frequencies to a table of proportions and save the result as `location_result_proportions`. Print your result."
   ]
  },
  {
   "cell_type": "code",
   "execution_count": 15,
   "id": "ba158b2d",
   "metadata": {},
   "outputs": [
    {
     "data": {
      "text/html": [
       "<div>\n",
       "<style scoped>\n",
       "    .dataframe tbody tr th:only-of-type {\n",
       "        vertical-align: middle;\n",
       "    }\n",
       "\n",
       "    .dataframe tbody tr th {\n",
       "        vertical-align: top;\n",
       "    }\n",
       "\n",
       "    .dataframe thead th {\n",
       "        text-align: right;\n",
       "    }\n",
       "</style>\n",
       "<table border=\"1\" class=\"dataframe\">\n",
       "  <thead>\n",
       "    <tr style=\"text-align: right;\">\n",
       "      <th>game_location</th>\n",
       "      <th>A</th>\n",
       "      <th>H</th>\n",
       "    </tr>\n",
       "    <tr>\n",
       "      <th>game_result</th>\n",
       "      <th></th>\n",
       "      <th></th>\n",
       "    </tr>\n",
       "  </thead>\n",
       "  <tbody>\n",
       "    <tr>\n",
       "      <th>L</th>\n",
       "      <td>0.295556</td>\n",
       "      <td>0.233333</td>\n",
       "    </tr>\n",
       "    <tr>\n",
       "      <th>W</th>\n",
       "      <td>0.204444</td>\n",
       "      <td>0.266667</td>\n",
       "    </tr>\n",
       "  </tbody>\n",
       "</table>\n",
       "</div>"
      ],
      "text/plain": [
       "game_location         A         H\n",
       "game_result                      \n",
       "L              0.295556  0.233333\n",
       "W              0.204444  0.266667"
      ]
     },
     "execution_count": 15,
     "metadata": {},
     "output_type": "execute_result"
    }
   ],
   "source": [
    "location_result_proportions = location_result_freq/len(nba_2010)\n",
    "location_result_proportions"
   ]
  },
  {
   "cell_type": "markdown",
   "id": "7fc3a870",
   "metadata": {},
   "source": [
    "8. Using the contingency table created in the previous exercise (Ex. 7), calculate the expected contingency table (if there were no association) and the Chi-Square statistic and print your results. Does the actual contingency table look similar to the expected table — or different? Based on this output, do you think there is an association between these variables?"
   ]
  },
  {
   "cell_type": "code",
   "execution_count": 19,
   "id": "b0eeeca8",
   "metadata": {},
   "outputs": [
    {
     "name": "stdout",
     "output_type": "stream",
     "text": [
      "[[119. 119.]\n",
      " [106. 106.]]\n",
      "6.501704455367053\n"
     ]
    }
   ],
   "source": [
    "chi2, pval, dof, expected = chi2_contingency(location_result_freq)\n",
    "print(expected)\n",
    "print(chi2)"
   ]
  },
  {
   "cell_type": "markdown",
   "id": "7af8ed5a",
   "metadata": {},
   "source": [
    "**Yes there is an association between the variables since the Chi squared is larger than 4**"
   ]
  },
  {
   "cell_type": "markdown",
   "id": "be53fdc6",
   "metadata": {},
   "source": [
    "## Analyzing Relationships Between Quantitative Variables\n",
    "\n",
    "\n",
    "9. For each game, 538 has calculated the probability that each team will win the game. In the data, this is saved as `forecast`. The `point_diff` column gives the margin of victory/defeat for each team (positive values mean that the team won; negative values mean that they lost). Did teams with a higher probability of winning (according to 538) also tend to win games by more points?\n",
    "\n",
    "Using `nba_2010`, calculate the covariance between `forecast` (538’s projected win probability) and `point_diff` (the margin of victory/defeat) in the dataset. Save and print your result. Looking at the matrix, what is the covariance between these two variables?"
   ]
  },
  {
   "cell_type": "code",
   "execution_count": 20,
   "id": "8aa76391",
   "metadata": {},
   "outputs": [
    {
     "name": "stdout",
     "output_type": "stream",
     "text": [
      "[[  0.05   1.37]\n",
      " [  1.37 186.56]]\n"
     ]
    }
   ],
   "source": [
    "covariance = np.cov(nba_2010.forecast, nba_2010.point_diff)\n",
    "print(covariance)"
   ]
  },
  {
   "cell_type": "markdown",
   "id": "4173bed4",
   "metadata": {},
   "source": [
    "**The covariance between these two variables is 1.37**"
   ]
  },
  {
   "cell_type": "markdown",
   "id": "dfe76e53",
   "metadata": {},
   "source": [
    "10. Using `nba_2010`, calculate the correlation between `forecast` and `point_diff`. Save and print your result. Does this value suggest an association between the two variables?"
   ]
  },
  {
   "cell_type": "code",
   "execution_count": 21,
   "id": "13302687",
   "metadata": {},
   "outputs": [
    {
     "name": "stdout",
     "output_type": "stream",
     "text": [
      "0.44020887084680815\n"
     ]
    }
   ],
   "source": [
    "corr_forecast_pointdiff, p = pearsonr(nba_2010.forecast, nba_2010.point_diff)\n",
    "print(corr_forecast_pointdiff)"
   ]
  },
  {
   "cell_type": "markdown",
   "id": "45b0cddc",
   "metadata": {},
   "source": [
    "**Yes, the variables are positively correlation with each other linearly**"
   ]
  },
  {
   "cell_type": "markdown",
   "id": "2aeee6f5",
   "metadata": {},
   "source": [
    "11. Generate a scatter plot of `forecast` (on the x-axis) and `point_diff` (on the y-axis). Does the correlation value make sense?"
   ]
  },
  {
   "cell_type": "code",
   "execution_count": 23,
   "id": "72623fa4",
   "metadata": {},
   "outputs": [
    {
     "data": {
      "image/png": "[encoded data removed]",
      "text/plain": [
       "<Figure size 432x288 with 1 Axes>"
      ]
     },
     "metadata": {
      "needs_background": "light"
     },
     "output_type": "display_data"
    }
   ],
   "source": [
    "plt.clf()\n",
    "plt.scatter(data=nba_2010, x='forecast', y='point_diff')\n",
    "plt.xlabel('Forecasted Win Probability')\n",
    "plt.ylabel('Point Differential')\n",
    "plt.show()"
   ]
  }
 ],
 "metadata": {
  "kernelspec": {
   "display_name": "Python 3 (ipykernel)",
   "language": "python",
   "name": "python3"
  },
  "language_info": {
   "codemirror_mode": {
    "name": "ipython",
    "version": 3
   },
   "file_extension": ".py",
   "mimetype": "text/x-python",
   "name": "python",
   "nbconvert_exporter": "python",
   "pygments_lexer": "ipython3",
   "version": "3.9.7"
  }
 },
 "nbformat": 4,
 "nbformat_minor": 5
}
